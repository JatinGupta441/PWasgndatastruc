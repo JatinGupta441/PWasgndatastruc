{
 "cells": [
  {
   "cell_type": "code",
   "execution_count": 1,
   "id": "2305efef",
   "metadata": {},
   "outputs": [],
   "source": [
    "st=\"Ja\"\n",
    "lis=[1,\"Gup\",3.4]\n",
    "fl=3.2\n",
    "tup=(2,\"Jat\",9)"
   ]
  },
  {
   "cell_type": "code",
   "execution_count": 2,
   "id": "1b510be4",
   "metadata": {},
   "outputs": [
    {
     "data": {
      "text/plain": [
       "str"
      ]
     },
     "execution_count": 2,
     "metadata": {},
     "output_type": "execute_result"
    }
   ],
   "source": [
    "type(st)"
   ]
  },
  {
   "cell_type": "code",
   "execution_count": 4,
   "id": "b701e33f",
   "metadata": {},
   "outputs": [
    {
     "data": {
      "text/plain": [
       "list"
      ]
     },
     "execution_count": 4,
     "metadata": {},
     "output_type": "execute_result"
    }
   ],
   "source": [
    "type(lis)"
   ]
  },
  {
   "cell_type": "code",
   "execution_count": 5,
   "id": "28911197",
   "metadata": {},
   "outputs": [],
   "source": [
    "var1=\"\"\n",
    "var2=\"[DS,ML,Python]\"\n",
    "var3=[\"DS\",\"ML\",\"Python\"]\n",
    "var4=1."
   ]
  },
  {
   "cell_type": "code",
   "execution_count": 7,
   "id": "f0d467b2",
   "metadata": {},
   "outputs": [
    {
     "data": {
      "text/plain": [
       "str"
      ]
     },
     "execution_count": 7,
     "metadata": {},
     "output_type": "execute_result"
    }
   ],
   "source": [
    "type(var1)"
   ]
  },
  {
   "cell_type": "code",
   "execution_count": 9,
   "id": "29b92f09",
   "metadata": {},
   "outputs": [
    {
     "data": {
      "text/plain": [
       "float"
      ]
     },
     "execution_count": 9,
     "metadata": {},
     "output_type": "execute_result"
    }
   ],
   "source": [
    "\n",
    "type(var4)"
   ]
  },
  {
   "cell_type": "code",
   "execution_count": 10,
   "id": "defc3799",
   "metadata": {},
   "outputs": [
    {
     "data": {
      "text/plain": [
       "str"
      ]
     },
     "execution_count": 10,
     "metadata": {},
     "output_type": "execute_result"
    }
   ],
   "source": [
    "type(var2)"
   ]
  },
  {
   "cell_type": "code",
   "execution_count": 11,
   "id": "7f547b3d",
   "metadata": {},
   "outputs": [
    {
     "data": {
      "text/plain": [
       "list"
      ]
     },
     "execution_count": 11,
     "metadata": {},
     "output_type": "execute_result"
    }
   ],
   "source": [
    "type(var3)"
   ]
  },
  {
   "cell_type": "code",
   "execution_count": 12,
   "id": "f956958e",
   "metadata": {},
   "outputs": [
    {
     "data": {
      "text/plain": [
       "1.3333333333333333"
      ]
     },
     "execution_count": 12,
     "metadata": {},
     "output_type": "execute_result"
    }
   ],
   "source": [
    "4/3"
   ]
  },
  {
   "cell_type": "code",
   "execution_count": 13,
   "id": "cb0db1f6",
   "metadata": {},
   "outputs": [
    {
     "data": {
      "text/plain": [
       "1"
      ]
     },
     "execution_count": 13,
     "metadata": {},
     "output_type": "execute_result"
    }
   ],
   "source": [
    "4%3"
   ]
  },
  {
   "cell_type": "code",
   "execution_count": 1,
   "id": "55424f98",
   "metadata": {},
   "outputs": [
    {
     "data": {
      "text/plain": [
       "1"
      ]
     },
     "execution_count": 1,
     "metadata": {},
     "output_type": "execute_result"
    }
   ],
   "source": [
    "4//3"
   ]
  },
  {
   "cell_type": "code",
   "execution_count": 2,
   "id": "6dd527bf",
   "metadata": {},
   "outputs": [
    {
     "data": {
      "text/plain": [
       "64"
      ]
     },
     "execution_count": 2,
     "metadata": {},
     "output_type": "execute_result"
    }
   ],
   "source": [
    "4**3"
   ]
  },
  {
   "cell_type": "markdown",
   "id": "89f2eb6e",
   "metadata": {},
   "source": [
    "4//3"
   ]
  },
  {
   "cell_type": "code",
   "execution_count": 4,
   "id": "ae8166bd",
   "metadata": {},
   "outputs": [
    {
     "name": "stdout",
     "output_type": "stream",
     "text": [
      "1\n",
      "<class 'int'>\n",
      "2.3\n",
      "<class 'float'>\n",
      "(3, 2, 1)\n",
      "<class 'tuple'>\n",
      "Spider\n",
      "<class 'str'>\n",
      "[5, 3]\n",
      "<class 'list'>\n",
      "MAN\n",
      "<class 'str'>\n",
      "8.8\n",
      "<class 'float'>\n",
      "True\n",
      "<class 'bool'>\n",
      "{2, 3}\n",
      "<class 'set'>\n",
      "9\n",
      "<class 'int'>\n"
     ]
    }
   ],
   "source": [
    "lis1=[1,2.3,(3,2,1),\"Spider\",[5,3],\"MAN\",8.8,True,{2,3},9]\n",
    "for i in lis1:\n",
    "    print(i)\n",
    "    print(type(i))"
   ]
  },
  {
   "cell_type": "code",
   "execution_count": 6,
   "id": "ad46b607",
   "metadata": {},
   "outputs": [
    {
     "name": "stdout",
     "output_type": "stream",
     "text": [
      "Enter a no.: 8\n",
      "Enter no2.: 2\n",
      "3\n"
     ]
    }
   ],
   "source": [
    "A=int(input(\"Enter a no.: \"))\n",
    "B=int(input(\"Enter no2.: \"))\n",
    "count=0\n",
    "while A%B==0:\n",
    "    count+=1\n",
    "    A//=B\n",
    "print(count)"
   ]
  },
  {
   "cell_type": "code",
   "execution_count": 10,
   "id": "c4cabd0d",
   "metadata": {},
   "outputs": [
    {
     "name": "stdout",
     "output_type": "stream",
     "text": [
      "1 is not divisible by 3.\n",
      "2 is not divisible by 3.\n",
      "3 is divisible by 3.\n",
      "4 is not divisible by 3.\n",
      "5 is not divisible by 3.\n",
      "6 is divisible by 3.\n",
      "7 is not divisible by 3.\n",
      "8 is not divisible by 3.\n",
      "9 is divisible by 3.\n",
      "10 is not divisible by 3.\n",
      "11 is not divisible by 3.\n",
      "12 is divisible by 3.\n",
      "13 is not divisible by 3.\n",
      "14 is not divisible by 3.\n",
      "15 is divisible by 3.\n",
      "16 is not divisible by 3.\n",
      "17 is not divisible by 3.\n",
      "18 is divisible by 3.\n",
      "19 is not divisible by 3.\n",
      "20 is not divisible by 3.\n",
      "21 is divisible by 3.\n",
      "22 is not divisible by 3.\n",
      "23 is not divisible by 3.\n",
      "24 is divisible by 3.\n",
      "25 is not divisible by 3.\n",
      "26 is not divisible by 3.\n"
     ]
    }
   ],
   "source": [
    "lis2=[1,2,3,4,5,6,7,8,9,10,11,12,13,14,15,16,17,18,19,20,21,22,23,24,25,26]\n",
    "for i in lis2:\n",
    "    if (i%3==0):\n",
    "        print(f\"{i} is divisible by 3.\")\n",
    "    else:\n",
    "        print(f\"{i} is not divisible by 3.\")"
   ]
  },
  {
   "cell_type": "code",
   "execution_count": 11,
   "id": "6e2d5c10",
   "metadata": {},
   "outputs": [],
   "source": [
    "str1=\"notmutable\"\n",
    "lis3=['m','u',1,5.4]\n"
   ]
  },
  {
   "cell_type": "code",
   "execution_count": 12,
   "id": "8a5e19b4",
   "metadata": {},
   "outputs": [
    {
     "name": "stdout",
     "output_type": "stream",
     "text": [
      "['m', 'u', 5, 5.4]\n"
     ]
    }
   ],
   "source": [
    "lis3[2]=5\n",
    "print(lis3)"
   ]
  },
  {
   "cell_type": "code",
   "execution_count": 13,
   "id": "dca05760",
   "metadata": {},
   "outputs": [
    {
     "ename": "TypeError",
     "evalue": "'str' object does not support item assignment",
     "output_type": "error",
     "traceback": [
      "\u001b[0;31m---------------------------------------------------------------------------\u001b[0m",
      "\u001b[0;31mTypeError\u001b[0m                                 Traceback (most recent call last)",
      "\u001b[0;32m/var/folders/7h/30kg6sm56xggf_zxjrdxtcxc0000gn/T/ipykernel_27665/3952579472.py\u001b[0m in \u001b[0;36m<module>\u001b[0;34m\u001b[0m\n\u001b[0;32m----> 1\u001b[0;31m \u001b[0mstr1\u001b[0m\u001b[0;34m[\u001b[0m\u001b[0;36m3\u001b[0m\u001b[0;34m]\u001b[0m\u001b[0;34m=\u001b[0m\u001b[0;34m\"z\"\u001b[0m\u001b[0;34m\u001b[0m\u001b[0;34m\u001b[0m\u001b[0m\n\u001b[0m\u001b[1;32m      2\u001b[0m \u001b[0mprint\u001b[0m\u001b[0;34m(\u001b[0m\u001b[0mstr1\u001b[0m\u001b[0;34m)\u001b[0m\u001b[0;34m\u001b[0m\u001b[0;34m\u001b[0m\u001b[0m\n",
      "\u001b[0;31mTypeError\u001b[0m: 'str' object does not support item assignment"
     ]
    }
   ],
   "source": [
    "str1[3]=\"z\"\n",
    "print(str1)"
   ]
  }
 ],
 "metadata": {
  "kernelspec": {
   "display_name": "Python 3 (ipykernel)",
   "language": "python",
   "name": "python3"
  },
  "language_info": {
   "codemirror_mode": {
    "name": "ipython",
    "version": 3
   },
   "file_extension": ".py",
   "mimetype": "text/x-python",
   "name": "python",
   "nbconvert_exporter": "python",
   "pygments_lexer": "ipython3",
   "version": "3.9.13"
  }
 },
 "nbformat": 4,
 "nbformat_minor": 5
}
